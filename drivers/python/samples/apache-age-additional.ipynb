{
 "cells": [
  {
   "cell_type": "markdown",
   "id": "eac6d4f3-4930-4aa8-9d8e-40a66c459bd8",
   "metadata": {},
   "source": [
    "# Additional Usage with psycopg2\n",
    "\n",
    "### Imports\n",
    "```\n",
    "import psycopg2\n",
    "import age\n",
    "```\n",
    "### Connect to PostgreSQL(with AGE extention)"
   ]
  },
  {
   "cell_type": "code",
   "execution_count": 1,
   "id": "5ed85f37-ff93-4822-bb96-e1851db407ac",
   "metadata": {},
   "outputs": [],
   "source": [
    "import psycopg2\n",
    "import age\n",
    "\n",
    "# Connect to PostgresDB with AGE\n",
    "conn = psycopg2.connect(host=\"172.17.0.3\", port=\"5432\", dbname=\"postgres\", user=\"postgres\", password=\"agens\")\n",
    "cursor = conn.cursor()\n",
    "\n",
    "# load AGE extention\n",
    "cursor.execute(\"LOAD 'age';\")\n",
    "cursor.execute(\"SET search_path = ag_catalog, '$user', public;\")\n",
    "\n",
    "# Check if age_graph named 'testGraph' exists\n",
    "cursor.execute(\"SELECT count(*) FROM ag_graph WHERE name=%s\", ('testGraph',))\n",
    "\n",
    "if cursor.fetchone()[0] == 0 :\n",
    "# if age_graph named 'testGraph', create that\n",
    "    cursor.execute(\"SELECT create_graph(%s);\", ('testGraph',))\n"
   ]
  },
  {
   "cell_type": "markdown",
   "id": "342d4298-0867-4cc8-89ee-28f8e442b90c",
   "metadata": {},
   "source": [
    "### Create & Query Vertices"
   ]
  },
  {
   "cell_type": "code",
   "execution_count": 2,
   "id": "f1d1e91a-8ebc-491b-a75a-13310e074481",
   "metadata": {},
   "outputs": [
    {
     "name": "stdout",
     "output_type": "stream",
     "text": [
      "---[Parse & print vertices row by row]---\n",
      "844424930133175 Person {'name': 'Joe'}\n",
      "844424930133176 Person {'name': 'Smith'}\n",
      "844424930133177 Person {'name': 'Jack'}\n",
      "844424930133178 Person {'name': 'Andy', 'title': 'Developer'}\n",
      "844424930133179 Person {'name': 'Tom', 'title': 'Developer'}\n",
      "---[Parse all vertices in result set]---\n",
      "Count of queried vertices: 1\n",
      "---[Print vertices in Graph object]---\n",
      "844424930133178 Person {'name': 'Andy', 'title': 'Developer'}\n"
     ]
    }
   ],
   "source": [
    "# Create Vertices\n",
    "age.execCypher(cursor, \"testGraph\", \"CREATE (n:Person {name: 'Joe'})\")\n",
    "age.execCypher(cursor, \"testGraph\", \"CREATE (n:Person {name: 'Smith'})\")\n",
    "age.execCypher(cursor, \"testGraph\", \"CREATE (n:Person {name: %s})\", ('Jack',))\n",
    "age.execCypher(cursor, \"testGraph\", \"CREATE (n:Person {name: 'Andy', title: 'Developer'})\")\n",
    "age.execCypher(cursor, \"testGraph\", \"CREATE (n:Person {name: %s, title: %s})\", ('Tom','Developer',))\n",
    "conn.commit()\n",
    "\n",
    "# Query Vertices\n",
    "age.queryCypher(cursor, \"testGraph\", \"MATCH (n:Person) RETURN n\")\n",
    "\n",
    "# parse each row in cursor\n",
    "print(\"---[Parse & print vertices row by row]---\")\n",
    "for row in age.getRows(cursor):\n",
    "    print(row.id, row.label, row.properties)\n",
    "\n",
    "    \n",
    "# Query Vertices with parameters\n",
    "age.queryCypher(cursor, \"testGraph\", \"MATCH (n:Person {name:%s}) RETURN n\", (\"Andy\",))\n",
    "\n",
    "# Parse full data in cursor\n",
    "print(\"---[Parse all vertices in result set]---\")\n",
    "graph = age.buildGraph(cursor)\n",
    "\n",
    "print(\"Count of queried vertices:\", graph.size())\n",
    "\n",
    "print(\"---[Print vertices in Graph object]---\")\n",
    "for row in graph:\n",
    "    print(row.id, row.label, row.properties)\n",
    "    "
   ]
  },
  {
   "cell_type": "markdown",
   "id": "d055afd9-529b-46ed-999b-f8109bc35ece",
   "metadata": {},
   "source": [
    "### Create & Query Edges"
   ]
  },
  {
   "cell_type": "code",
   "execution_count": 3,
   "id": "218330c9-041a-4749-bf88-92e415cac866",
   "metadata": {},
   "outputs": [
    {
     "name": "stdout",
     "output_type": "stream",
     "text": [
      "-- [Query paths] --------\n",
      "---[Parse & print paths row by row]---\n",
      "Joe -[ workWith {'weight': '3'} ]- Smith\n",
      "Smith -[ workWith {'weight': '3'} ]- Joe\n",
      "Andy -[ workWith {'weight': '1'} ]- Tom\n",
      "Tom -[ workWith {'weight': '1'} ]- Andy\n",
      "Jack -[ workWith {'weight': '5'} ]- Andy\n",
      "Andy -[ workWith {'weight': '5'} ]- Jack\n",
      "Joe -[ workWith {'weight': '5'} ]- Jack\n",
      "Jack -[ workWith {'weight': '5'} ]- Joe\n"
     ]
    }
   ],
   "source": [
    "# Create Edges\n",
    "age.execCypher(cursor, \"testGraph\", \"MATCH (a:Person), (b:Person) WHERE a.name = 'Joe' AND b.name = 'Smith' CREATE (a)-[r:workWith {weight: 3}]->(b)\")\n",
    "age.execCypher(cursor, \"testGraph\", \"MATCH (a:Person), (b:Person) WHERE  a.name = 'Andy' AND b.name = 'Tom' CREATE (a)-[r:workWith {weight: 1}]->(b)\")\n",
    "age.execCypher(cursor, \"testGraph\", \"MATCH (a:Person {name: 'Jack'}), (b:Person {name: 'Andy'}) CREATE (a)-[r:workWith {weight: 5}]->(b)\")\n",
    "age.execCypher(cursor, \"testGraph\", \"MATCH (a:Person {name: 'Joe'}), (b:Person {name: 'Jack'}) CREATE (a)-[r:workWith {weight: 5}]->(b)\")\n",
    "conn.commit()\n",
    "\n",
    "print(\"-- [Query paths] --------\")\n",
    "age.queryCypher(cursor, \"testGraph\", \"MATCH p=()-[:workWith]-() RETURN p\")\n",
    "\n",
    "print(\"---[Parse & print paths row by row]---\")\n",
    "for path in age.getRows(cursor):\n",
    "    print(path.start[\"name\"], '-[',path.rel.label, path.rel.properties, ']-', path.end[\"name\"])\n"
   ]
  },
  {
   "cell_type": "markdown",
   "id": "79d95f5a-4f60-45ee-895d-84f04e10158c",
   "metadata": {},
   "source": [
    "## Query Scalar or properties value"
   ]
  },
  {
   "cell_type": "code",
   "execution_count": 4,
   "id": "012a2453-5b48-433c-bf61-0031bf02121e",
   "metadata": {},
   "outputs": [
    {
     "name": "stdout",
     "output_type": "stream",
     "text": [
      "-- Query scalar value --------------------\n",
      "844424930133175\n",
      "-- Query properties --------------------\n",
      "{'name': 'Joe'}\n",
      "-- Query properties value --------------------\n",
      "Developer\n",
      "-- Query path count --------\n",
      "2\n"
     ]
    }
   ],
   "source": [
    "# Query scalar value\n",
    "print(\"-- Query scalar value --------------------\")\n",
    "age.queryCypher(cursor, \"testGraph\", \"MATCH (n:Person) RETURN id(n)\")\n",
    "value = age.getSingle(cursor)\n",
    "print(value)\n",
    "    \n",
    "# Query properties \n",
    "print(\"-- Query properties --------------------\")\n",
    "age.queryCypher(cursor, \"testGraph\", \"MATCH (n:Person) RETURN properties(n)\")\n",
    "value = age.getSingle(cursor)\n",
    "print(value)\n",
    "    \n",
    "# Query properties value\n",
    "print(\"-- Query properties value --------------------\")\n",
    "age.queryCypher(cursor, \"testGraph\", \"MATCH (n:Person {name: 'Andy'}) RETURN n.title\")\n",
    "value = age.getSingle(cursor)\n",
    "print(value)\n",
    "    \n",
    "print(\"-- Query path count --------\")\n",
    "age.queryCypher(cursor, \"testGraph\", \"MATCH p=(:Person {name: 'Andy'})-[:workWith]-() RETURN count(p)\")\n",
    "graph = age.buildGraph(cursor)\n",
    "print(graph[0])"
   ]
  },
  {
   "cell_type": "markdown",
   "id": "7e42db99-716d-49c1-bc2e-913fb65251a7",
   "metadata": {},
   "source": [
    "## Close connection"
   ]
  },
  {
   "cell_type": "code",
   "execution_count": 5,
   "id": "5c768e7e-9270-4949-9595-16afa348dc59",
   "metadata": {},
   "outputs": [],
   "source": [
    "# Clear test data\n",
    "age.queryCypher(cursor, \"testGraph\", \"MATCH (n:Person) DETACH DELETE n RETURN *\")\n",
    "\n",
    "conn.commit()\n",
    "\n",
    "conn.close()"
   ]
  },
  {
   "cell_type": "code",
   "execution_count": null,
   "id": "2378fdea-2d3f-4ee2-bd4c-41e90b352d31",
   "metadata": {},
   "outputs": [],
   "source": []
  }
 ],
 "metadata": {
  "kernelspec": {
   "display_name": "Python 3",
   "language": "python",
   "name": "python3"
  },
  "language_info": {
   "codemirror_mode": {
    "name": "ipython",
    "version": 3
   },
   "file_extension": ".py",
   "mimetype": "text/x-python",
   "name": "python",
   "nbconvert_exporter": "python",
   "pygments_lexer": "ipython3",
   "version": "3.9.2"
  }
 },
 "nbformat": 4,
 "nbformat_minor": 5
}
